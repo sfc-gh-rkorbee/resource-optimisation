{
 "metadata": {
  "kernelspec": {
   "display_name": "Streamlit Notebook",
   "name": "streamlit"
  },
  "lastEditStatus": {
   "notebookId": "3uouopyhob6x7ie5p44d",
   "authorId": "546087832624",
   "authorName": "",
   "authorEmail": "",
   "sessionId": "510bfeca-8cee-489b-bb40-d7f261cbc9ba",
   "lastEditTime": 1748956935400
  }
 },
 "nbformat_minor": 5,
 "nbformat": 4,
 "cells": [
  {
   "cell_type": "markdown",
   "id": "985eb8be-82c9-4b04-9655-a528f9a9454e",
   "metadata": {
    "collapsed": false,
    "name": "PerformanceAnalysisQueries"
   },
   "source": [
    "# Notebook with Query and WH Performance Analysis Queries\n",
    "\n",
    "- Adjust the date range before execution.\n",
    "\n",
    "- Adjust the or names patterns for the Warehouses, Tasks, and Schemas as needed."
   ]
  },
  {
   "cell_type": "code",
   "execution_count": null,
   "id": "2af7be27-24d0-4967-92bf-7f0a46ee2d5c",
   "metadata": {
    "language": "sql",
    "name": "Parameters"
   },
   "outputs": [],
   "source": "SET QUERY_START_DATE = '2025-05-25' ;\nSET QUERY_END_DATE = '2025-05-26' ;\nSET WAREHOUSES_PATTERN = 'SNOWADHOC'; -- wildcard supported\nSET TASKS_PATTERN = '%'; -- wildcard supported\nSET SCHEMAS_PATTERN = '%'; -- wildcard supported"
  },
  {
   "cell_type": "markdown",
   "id": "9538c131-22fe-4614-a8d0-4c5fa6e0132a",
   "metadata": {
    "name": "Concurrency",
    "collapsed": false
   },
   "source": "# Concurrency\n\n## Description:\n\nGet the number of concurrent jobs on a warehouse cluster.\n\n## How to Interpret Results:\n\nReturns the number of active jobs per cluster per minute."
  },
  {
   "cell_type": "code",
   "execution_count": null,
   "id": "72ca0ea1-a0e1-440d-aa5f-9fb2b2d4d4b8",
   "metadata": {
    "name": "cell14",
    "language": "sql"
   },
   "outputs": [],
   "source": "WITH job\n--Peak concurrent job count by minute and cluster number\nAS (\n\tSELECT\n\t\tjob.START_TIME\n\t\t, TO_NUMBER(EXECUTION_TIME, 18, 3) AS dur_xp_executing_ms\n\t\t, dateadd(ms, -1*execution_time::number(38,10), end_time) as xp_start_time\n\t\t, END_TIME AS xp_end_time\n\t\t, cluster_number AS cluster_no\n\t\t, job.QUERY_ID\n\tFROM SNOWFLAKE.ACCOUNT_USAGE.QUERY_HISTORY job\n\tWHERE WAREHOUSE_NAME  LIKE $WAREHOUSES_PATTERN\n    AND\n\t\tSTART_TIME BETWEEN $QUERY_START_DATE  :: DATE\n                AND $QUERY_END_DATE  :: DATE\n        and cluster_number > 0\n\t)\n, time_in_ms AS (\n\t--    select dateadd(ms, seq8(), dateadd(hour, -24, current_timestamp()))    as time_ms\n\t--    from table(generator(rowcount => 24 * 60 * 60 * 1000)) t --  2 hours\n\tSELECT xp_start_time AS time_ms, cluster_no\n\tFROM job\n\tUNION\n\tSELECT xp_end_time AS time_ms, cluster_no\n\tFROM job\n)\n\tSELECT date_trunc('minute', time_ms) AS minute\n\t\t, cluster_no\n\t\t--, any_value(hash(sec::string, warehouse_name, cluster_no::string)) as key\n\t\t, max(job_active_count) AS max_job_active_count_ms\n\tFROM (\n\t\tSELECT time_ms\n\t\t\t, t.cluster_no\n\t\t\t, count(QUERY_ID) AS job_active_count\n\t\tFROM time_in_ms t -- roll up to ms level\n\t\t\t--left join job\n\t\tINNER JOIN job ON time_ms >= xp_start_time\n\t\t\tAND time_ms < xp_end_time\n            and job.cluster_no = t.cluster_no\n\t\tGROUP BY 1, 2\n\t\t)\n\tGROUP BY 1, 2\n;\n"
  },
  {
   "cell_type": "markdown",
   "id": "71e9114a-0b50-4f92-bbe1-ba88392a06cd",
   "metadata": {
    "collapsed": false,
    "name": "Scaling"
   },
   "source": [
    "# Scaling\n",
    "\n",
    "## Description:\n",
    "\n",
    "Two separate queries that list out the warehouses and times that could benefit from either a MCW setting OR scaling up to a larger size\n",
    "\n",
    "## How to Interpret Results:\n",
    "\n",
    "Use this list to determine reconfiguration of a warehouse and the times or users that are causing contention on the warehouse\n"
   ]
  },
  {
   "cell_type": "markdown",
   "id": "075afa90-5878-442e-9db0-1351d5c546a9",
   "metadata": {
    "collapsed": false,
    "name": "ScaleOut"
   },
   "source": [
    "### Scale out"
   ]
  },
  {
   "cell_type": "code",
   "execution_count": null,
   "id": "404226c1-8b17-4658-bfb2-7b6bcc284b54",
   "metadata": {
    "language": "sql",
    "name": "cell6"
   },
   "outputs": [],
   "source": [
    "SELECT TO_DATE(START_TIME) as DATE\n",
    "\n",
    ",WAREHOUSE_NAME\n",
    "\n",
    ",SUM(AVG_RUNNING) AS SUM_RUNNING\n",
    "\n",
    ",SUM(AVG_QUEUED_LOAD) AS SUM_QUEUED\n",
    "\n",
    "FROM \"SNOWFLAKE\".\"ACCOUNT_USAGE\".\"WAREHOUSE_LOAD_HISTORY\"\n",
    "\n",
    "WHERE \n",
    "\n",
    "START_TIME BETWEEN $QUERY_START_DATE :: DATE\n",
    "                AND $QUERY_END_DATE :: DATE\n",
    "\n",
    "AND WAREHOUSE_NAME  LIKE $WAREHOUSES_PATTERN\n",
    "\n",
    "\n",
    "GROUP BY 1,2\n",
    "\n",
    "HAVING SUM(AVG_QUEUED_LOAD) >0\n",
    "\n",
    ";"
   ]
  },
  {
   "cell_type": "markdown",
   "id": "8f404139-5e4a-401c-bea1-83d7878b427b",
   "metadata": {
    "collapsed": false,
    "name": "ScaleUp"
   },
   "source": [
    "### Scale up"
   ]
  },
  {
   "cell_type": "code",
   "execution_count": null,
   "id": "206d8fd8-0d75-4ac0-b94b-8bf3c4bef0d8",
   "metadata": {
    "language": "sql",
    "name": "cell9"
   },
   "outputs": [],
   "source": [
    "SELECT QUERY_ID\n",
    "\n",
    ",USER_NAME\n",
    "\n",
    ",WAREHOUSE_NAME\n",
    "\n",
    ",WAREHOUSE_SIZE\n",
    "\n",
    ",BYTES_SCANNED\n",
    "\n",
    ",BYTES_SPILLED_TO_REMOTE_STORAGE\n",
    "\n",
    ",BYTES_SPILLED_TO_REMOTE_STORAGE / BYTES_SCANNED AS SPILLING_READ_RATIO\n",
    "\n",
    "FROM \"SNOWFLAKE\".\"ACCOUNT_USAGE\".\"QUERY_HISTORY\"\n",
    "\n",
    "WHERE BYTES_SPILLED_TO_REMOTE_STORAGE > BYTES_SCANNED * 5 -- Each byte read was spilled 5x on average\n",
    "\n",
    "AND\n",
    "\n",
    "START_TIME BETWEEN $QUERY_START_DATE  :: DATE\n",
    "                AND $QUERY_END_DATE  :: DATE\n",
    "\n",
    "AND WAREHOUSE_NAME  LIKE $WAREHOUSES_PATTERN\n",
    "\n",
    "\n",
    "ORDER BY SPILLING_READ_RATIO DESC\n",
    "\n",
    ";"
   ]
  },
  {
   "cell_type": "markdown",
   "id": "e2b44c08-9ec3-4dae-80bb-f955c7ee82c7",
   "metadata": {
    "collapsed": false,
    "name": "WarehouseCacheUsage"
   },
   "source": [
    "# Warehouse Cache Usage\n",
    "\n",
    "## Description:\n",
    "Aggregate across all queries broken out by warehouses showing the percentage of data scanned from the warehouse cache.\n",
    "## How to Interpret Results:\n",
    "Look for warehouses that are used from querying/reporting and have a low percentage. This indicates that the warehouse is suspending too quickly\n",
    "\n"
   ]
  },
  {
   "cell_type": "code",
   "execution_count": null,
   "id": "99ef626d-8a69-48d9-acb0-638127c91f9f",
   "metadata": {
    "language": "sql",
    "name": "cell1"
   },
   "outputs": [],
   "source": [
    "\n",
    "SELECT WAREHOUSE_NAME\n",
    ",COUNT(*) AS QUERY_COUNT\n",
    ",SUM(BYTES_SCANNED) AS BYTES_SCANNED\n",
    ",SUM(BYTES_SCANNED*PERCENTAGE_SCANNED_FROM_CACHE) AS BYTES_SCANNED_FROM_CACHE\n",
    ",SUM(BYTES_SCANNED*PERCENTAGE_SCANNED_FROM_CACHE) / SUM(BYTES_SCANNED) AS PERCENT_SCANNED_FROM_CACHE\n",
    "FROM \"SNOWFLAKE\".\"ACCOUNT_USAGE\".QUERY_HISTORY\n",
    "WHERE \n",
    " BYTES_SCANNED > 0\n",
    " \n",
    "AND \n",
    "\n",
    "START_TIME BETWEEN $QUERY_START_DATE  :: DATE\n",
    "                AND $QUERY_END_DATE  :: DATE\n",
    "\n",
    "AND WAREHOUSE_NAME   LIKE $WAREHOUSES_PATTERN\n",
    "\n",
    "\n",
    "GROUP BY 1\n",
    "ORDER BY 5\n"
   ]
  },
  {
   "cell_type": "markdown",
   "id": "c6c36334-a1bc-4711-94a4-8359ea10ff37",
   "metadata": {
    "collapsed": false,
    "name": "HeavyScanners"
   },
   "source": [
    "# Heavy scanners\n",
    "## Description:\n",
    "Ordered list of queries that run queries that scan a lot of data.\n",
    "## How to Interpret Results:\n",
    "This is a potential opportunity to identify queries which read a lot of data and if filtering is selective enough or caching is working properly.\n",
    "\n"
   ]
  },
  {
   "cell_type": "code",
   "execution_count": null,
   "id": "d928b520-f734-48da-a9cc-13ff8b24e61b",
   "metadata": {
    "language": "sql",
    "name": "cell3"
   },
   "outputs": [],
   "source": [
    "select \n",
    "  query_id\n",
    ", warehouse_name\n",
    ", avg(case when partitions_total > 0 then partitions_scanned / partitions_total else 0 end) avg_pct_scanned\n",
    "from   \"SNOWFLAKE\".\"ACCOUNT_USAGE\".query_history\n",
    "where  \n",
    "\n",
    "START_TIME BETWEEN $QUERY_START_DATE  :: DATE\n",
    "                AND $QUERY_END_DATE  :: DATE\n",
    "\n",
    "AND WAREHOUSE_NAME  LIKE $WAREHOUSES_PATTERN\n",
    "\n",
    "\n",
    "group by 1, 2\n",
    "order by 3 desc\n",
    ";\n"
   ]
  },
  {
   "cell_type": "markdown",
   "id": "b56665f6-b426-4b67-8af8-65b5972b0598",
   "metadata": {
    "collapsed": false,
    "name": "Spillage"
   },
   "source": [
    "# Spillage\n",
    "\n",
    "## Description:\n",
    "\n",
    "Identifies the top 10 worst offending queries in terms of bytes spilled to remote storage.\n",
    "\n",
    "## How to Interpret Results:\n",
    "\n",
    "These queries should most likely be run on larger warehouses that have more local storage and memory.\n"
   ]
  },
  {
   "cell_type": "code",
   "execution_count": null,
   "id": "62b13645-8511-433a-9d8e-3c9e3c7c7850",
   "metadata": {
    "language": "sql",
    "name": "cell11"
   },
   "outputs": [],
   "source": [
    "select query_id, substr(query_text, 1, 50) partial_query_text, user_name, warehouse_name, warehouse_size,\n",
    "\n",
    "BYTES_SPILLED_TO_REMOTE_STORAGE, start_time, end_time, total_elapsed_time/1000 total_elapsed_time\n",
    "\n",
    "from \"SNOWFLAKE\".\"ACCOUNT_USAGE\".query_history\n",
    "\n",
    "where BYTES_SPILLED_TO_REMOTE_STORAGE > 0\n",
    "\n",
    "AND \n",
    "\n",
    "START_TIME BETWEEN $QUERY_START_DATE  :: DATE\n",
    "                AND $QUERY_END_DATE  :: DATE\n",
    "\n",
    "AND WAREHOUSE_NAME  LIKE $WAREHOUSES_PATTERN\n",
    "\n",
    "\n",
    "order by BYTES_SPILLED_TO_REMOTE_STORAGE desc\n",
    "\n",
    "limit 10\n",
    "\n",
    ";"
   ]
  },
  {
   "cell_type": "markdown",
   "id": "ef20a62d-abb5-48dc-be5f-9a341d4c548c",
   "metadata": {
    "collapsed": false,
    "name": "QueryVolume"
   },
   "source": [
    "# Query Volume\n",
    "\n",
    "## Description:\n",
    "\n",
    "Shows average number of queries run on an hourly basis to help better understand typical query activity.\n",
    "\n",
    "## How to Interpret Results:\n",
    "\n",
    "How many queries are being run on an hourly basis? Is this more or less than we anticipated? What could be causing this?\n"
   ]
  },
  {
   "cell_type": "code",
   "execution_count": null,
   "id": "7a228576-ff97-4394-8d4a-71b2b7ceb408",
   "metadata": {
    "language": "sql",
    "name": "cell13"
   },
   "outputs": [],
   "source": [
    "SELECT DATE_TRUNC('HOUR', START_TIME) AS QUERY_START_HOUR\n",
    "\n",
    ",WAREHOUSE_NAME\n",
    "\n",
    ",COUNT(*) AS NUM_QUERIES\n",
    "\n",
    "FROM \"SNOWFLAKE\".\"ACCOUNT_USAGE\".QUERY_HISTORY\n",
    "\n",
    "WHERE \n",
    "\n",
    "START_TIME BETWEEN $QUERY_START_DATE  :: DATE\n",
    "                AND $QUERY_END_DATE  :: DATE\n",
    "\n",
    "AND WAREHOUSE_NAME  LIKE $WAREHOUSES_PATTERN\n",
    "\n",
    "\n",
    "GROUP BY 1, 2\n",
    "\n",
    "ORDER BY 1 DESC, 2\n",
    "\n",
    ";"
   ]
  },
  {
   "cell_type": "markdown",
   "id": "5ddb0b73-60be-49e4-b4ad-e5f2065f4d23",
   "metadata": {
    "collapsed": false,
    "name": "LongestRunningQueries"
   },
   "source": [
    "# Longest Running Queries\n",
    "\n",
    "## Description:\n",
    "\n",
    "Looks at the top 50 longest running queries to see if there are patterns\n",
    "\n",
    "## How to Interpret Results:\n",
    "\n",
    "Is there an opportunity to optimize with clustering or upsize the warehouse?\n"
   ]
  },
  {
   "cell_type": "code",
   "execution_count": null,
   "id": "6223d5bc-3a84-43fc-ae72-72d0647fb4ed",
   "metadata": {
    "language": "sql",
    "name": "cell15"
   },
   "outputs": [],
   "source": [
    "select\n",
    "\n",
    "\n",
    "QUERY_ID\n",
    "\n",
    ",QUERY_TEXT\n",
    "\n",
    ",TOTAL_ELAPSED_TIME/1000 AS QUERY_EXECUTION_TIME_SECONDS\n",
    "\n",
    ",compilation_time/1000 AS COMPILATION_TIME_SECONDS\n",
    "\n",
    ",execution_time/1000 AS EXECUTION_TIME_SECONDS\n",
    "\n",
    ",queued_overload_time/1000 AS QUEUED_TIME_SECONDS\n",
    "\n",
    "from \"SNOWFLAKE\".\"ACCOUNT_USAGE\".QUERY_HISTORY Q\n",
    "\n",
    "where 1=1\n",
    "\n",
    "AND\n",
    "\n",
    "START_TIME BETWEEN $QUERY_START_DATE  :: DATE\n",
    "                AND $QUERY_END_DATE  :: DATE\n",
    "\n",
    "AND WAREHOUSE_NAME  LIKE $WAREHOUSES_PATTERN\n",
    "\n",
    "\n",
    "\n",
    "and TOTAL_ELAPSED_TIME > 0 --only get queries that actually used compute\n",
    "\n",
    "and ERROR_CODE iS NULL\n",
    "\n",
    "\n",
    "order by TOTAL_ELAPSED_TIME desc\n",
    "\n",
    "\n",
    "LIMIT 50\n",
    "\n",
    ";"
   ]
  },
  {
   "cell_type": "markdown",
   "id": "be2b1656-fd77-43d0-990b-22e647d6fb77",
   "metadata": {
    "collapsed": false,
    "name": "LongestCompilationTimes"
   },
   "source": [
    "# Longest Compilation Times\n",
    "\n",
    "## Description:\n",
    "\n",
    "Looks at the top 50 longest compiling queries\n",
    "\n",
    "## How to Interpret Results:\n",
    "\n",
    "Is there an opportunity to reduce query complexity?"
   ]
  },
  {
   "cell_type": "code",
   "execution_count": null,
   "id": "fffbe0e1-a6fc-45a6-a431-7d46102802ec",
   "metadata": {
    "language": "sql",
    "name": "cell7"
   },
   "outputs": [],
   "source": [
    "select\n",
    "\n",
    "\n",
    "QUERY_ID\n",
    "\n",
    ",QUERY_TEXT\n",
    "\n",
    ",TOTAL_ELAPSED_TIME/1000 AS QUERY_EXECUTION_TIME_SECONDS\n",
    "\n",
    ",COMPILATION_TIME/1000 AS QUERY_COMPILATION_TIME_SECONDS\n",
    "\n",
    ",QUERY_COMPILATION_TIME_SECONDS/QUERY_EXECUTION_TIME_SECONDS AS PERCENT_COMPILATION_TIME_SECONDS\n",
    "\n",
    "from \"SNOWFLAKE\".\"ACCOUNT_USAGE\".QUERY_HISTORY Q\n",
    "\n",
    "where 1=1\n",
    "\n",
    "AND\n",
    "\n",
    "START_TIME BETWEEN $QUERY_START_DATE  :: DATE\n",
    "                AND $QUERY_END_DATE  :: DATE\n",
    "\n",
    "AND WAREHOUSE_NAME  LIKE $WAREHOUSES_PATTERN\n",
    "\n",
    "and COMPILATION_TIME > 2000 -- greater than 2 seconds\n",
    "\n",
    "and TOTAL_ELAPSED_TIME > 3000 -- only look at long running queries\n",
    "\n",
    "and ERROR_CODE iS NULL\n",
    "\n",
    "\n",
    "order by PERCENT_COMPILATION_TIME_SECONDS desc\n",
    "\n",
    "\n",
    "LIMIT 50\n",
    "\n",
    ";"
   ]
  },
  {
   "cell_type": "markdown",
   "id": "97fbb28e-b927-42fc-82c6-7fbcdf6b4e8c",
   "metadata": {
    "collapsed": false,
    "name": "LongestQueryText"
   },
   "source": [
    "# Longest Query Text\n",
    "## Description\n",
    "List the Top 50 queries witht he longest text.\n",
    "## How to Interpret Results\n",
    "Find candidates for refactoring."
   ]
  },
  {
   "cell_type": "code",
   "execution_count": null,
   "id": "10d66b6f-2b14-4001-b7b7-d6c9c564e435",
   "metadata": {
    "language": "sql",
    "name": "cell5"
   },
   "outputs": [],
   "source": [
    "select\n",
    "\n",
    "\n",
    "QUERY_ID\n",
    "\n",
    ",QUERY_TEXT\n",
    "\n",
    ",LENGTH(QUERY_TEXT) AS QUERY_LENGTH\n",
    "\n",
    "\n",
    "from \"SNOWFLAKE\".\"ACCOUNT_USAGE\".QUERY_HISTORY Q\n",
    "\n",
    "where 1=1\n",
    "\n",
    "AND\n",
    "\n",
    "START_TIME BETWEEN $QUERY_START_DATE  :: DATE\n",
    "                AND $QUERY_END_DATE  :: DATE\n",
    "\n",
    "AND WAREHOUSE_NAME  LIKE $WAREHOUSES_PATTERN\n",
    "\n",
    "\n",
    "and QUERY_LENGTH >= 100000 --only get queries longer than n characters (modify as needed)\n",
    "\n",
    "and ERROR_CODE iS NULL\n",
    "\n",
    "and QUERY_TEXT is not null\n",
    "\n",
    "\n",
    "order by QUERY_LENGTH desc\n",
    "\n",
    "\n",
    "LIMIT 50\n",
    "\n",
    ";"
   ]
  },
  {
   "cell_type": "markdown",
   "id": "da755344-45ad-43f0-b54d-bd1b18497fb1",
   "metadata": {
    "collapsed": false,
    "name": "QueriesScanningMostData"
   },
   "source": [
    "# Queries Scanning the Most Data\n",
    "\n",
    "## Description:\n",
    "\n",
    "Looks at the top 50 queries that scan the largest number of micro partitions\n",
    "\n",
    "## How to Interpret Results:\n",
    "\n",
    "Is there an opportunity to optimize with clustering or upsize the warehouse?\n"
   ]
  },
  {
   "cell_type": "code",
   "execution_count": null,
   "id": "2634cc27-a3f1-4568-bd08-4f7f9ebfb2f0",
   "metadata": {
    "language": "sql",
    "name": "cell17"
   },
   "outputs": [],
   "source": [
    "select\n",
    "\n",
    "\n",
    "QUERY_ID\n",
    "\n",
    ",ROW_NUMBER() OVER(ORDER BY PARTITIONS_SCANNED DESC) as QUERY_ID_INT\n",
    "\n",
    ",QUERY_TEXT\n",
    "\n",
    ",TOTAL_ELAPSED_TIME/1000 AS QUERY_EXECUTION_TIME_SECONDS\n",
    "\n",
    ",PARTITIONS_SCANNED\n",
    "\n",
    ",PARTITIONS_TOTAL\n",
    "\n",
    "\n",
    "from \"SNOWFLAKE\".\"ACCOUNT_USAGE\".QUERY_HISTORY Q\n",
    "\n",
    "where 1=1\n",
    "\n",
    "and\n",
    "\n",
    "START_TIME BETWEEN $QUERY_START_DATE  :: DATE\n",
    "                AND $QUERY_END_DATE  :: DATE\n",
    "\n",
    "AND WAREHOUSE_NAME  LIKE $WAREHOUSES_PATTERN\n",
    "\n",
    "\n",
    "\n",
    "and TOTAL_ELAPSED_TIME > 0 --only get queries that actually used compute\n",
    "\n",
    "and ERROR_CODE iS NULL\n",
    "\n",
    "and PARTITIONS_SCANNED is not null\n",
    "\n",
    "\n",
    "order by PARTITIONS_SCANNED desc\n",
    "\n",
    "\n",
    "LIMIT 50\n",
    "\n",
    ";"
   ]
  },
  {
   "cell_type": "markdown",
   "id": "85e1e25c-4e97-49bf-b14b-8d4fdd5bbe3f",
   "metadata": {
    "collapsed": false,
    "name": "QueryDuration"
   },
   "source": [
    "# Query Duration Performance Goals\n",
    "\n",
    "## Description:\n",
    "\n",
    "Find the distribution of total elapsed times for all queries in a warehouse for a period.\n",
    "\n",
    "## How to Interpret Results:\n",
    "\n",
    "Do we meet the performance objective per query? For example, if we expect queries to complete in less than 5 seconds, then this usually means that the p95 or p99 values are below 5 seconds.\n"
   ]
  },
  {
   "cell_type": "code",
   "execution_count": null,
   "id": "1324a180-7489-4498-b77c-6fd7a4b5b84e",
   "metadata": {
    "language": "sql",
    "name": "cell19"
   },
   "outputs": [],
   "source": [
    "select\n",
    "\n",
    "min(total_elapsed_time) min,\n",
    "\n",
    "max(total_elapsed_time) max,\n",
    "\n",
    "median(total_elapsed_time) median,\n",
    "\n",
    "avg(total_elapsed_time) avg,\n",
    "\n",
    "percentile_cont(0.95) within group (order by total_elapsed_time) p95,\n",
    "\n",
    "percentile_cont(0.80) within group (order by total_elapsed_time) p80,\n",
    "\n",
    "percentile_cont(0.65) within group (order by total_elapsed_time) p65\n",
    "\n",
    "from \"SNOWFLAKE\".\"ACCOUNT_USAGE\".query_history\n",
    "\n",
    "WHERE\n",
    "\n",
    "START_TIME BETWEEN $QUERY_START_DATE  :: DATE\n",
    "                AND $QUERY_END_DATE  :: DATE\n",
    "\n",
    "AND WAREHOUSE_NAME  LIKE $WAREHOUSES_PATTERN\n",
    "AND query_type = 'SELECT'\n",
    "\n",
    "AND execution_status = 'SUCCESS'\n",
    "\n",
    "AND not contains(query_text, 'snowflake')\n",
    "\n",
    "AND not contains(query_text, 'SNOWFLAKE')\n",
    "\n",
    "order by 1;"
   ]
  },
  {
   "cell_type": "markdown",
   "id": "d159de0d-3a41-4849-b6c9-1e870989a50d",
   "metadata": {
    "collapsed": false,
    "name": "Queueing"
   },
   "source": [
    "# Queueing\n",
    "\n",
    "## Description:\n",
    "\n",
    "Query load value for queries queued because the warehouse was overloaded. \n",
    "\n",
    "## How to Interpret Results:\n",
    "\n",
    "Which warehouses have a high query load?\n"
   ]
  },
  {
   "cell_type": "code",
   "execution_count": null,
   "id": "354d04db-93b9-4227-9614-9e355177a215",
   "metadata": {
    "language": "sql",
    "name": "cell21"
   },
   "outputs": [],
   "source": [
    "SELECT TO_TIME(START_TIME) as DATE\n",
    ",WAREHOUSE_NAME\n",
    ",SUM(AVG_RUNNING) AS SUM_RUNNING\n",
    ",SUM(AVG_QUEUED_LOAD) AS SUM_QUEUED\n",
    ",SUM_QUEUED /  SUM_RUNNING AS QUEUE_LOAD\n",
    "FROM \"SNOWFLAKE\".\"ACCOUNT_USAGE\".\"WAREHOUSE_LOAD_HISTORY\"\n",
    "WHERE \n",
    "\n",
    "\n",
    "START_TIME BETWEEN $QUERY_START_DATE  :: DATE\n",
    "                AND $QUERY_END_DATE  :: DATE\n",
    "\n",
    "AND WAREHOUSE_NAME  LIKE $WAREHOUSES_PATTERN\n",
    "\n",
    "GROUP BY 1,2\n",
    "HAVING SUM(AVG_QUEUED_LOAD) >0\n",
    "ORDER BY 1\n",
    ";"
   ]
  },
  {
   "cell_type": "markdown",
   "id": "237a718f-422b-475e-9b2a-482926d65d85",
   "metadata": {
    "collapsed": false,
    "name": "CreditConsumption"
   },
   "source": [
    "# Credit Consumption\n",
    "\n",
    "## Description:\n",
    "\n",
    "Get how many credits have been spent by differents services (Warehouses, pipes, etc)\n",
    "\n",
    "## How to Interpret Results:\n",
    "\n",
    "Are there any outliers in credit consumption that need to be addressed?\n"
   ]
  },
  {
   "cell_type": "code",
   "execution_count": null,
   "id": "ace0dace-0f48-4994-b8c3-95a5ac76f499",
   "metadata": {
    "language": "sql",
    "name": "cell23"
   },
   "outputs": [],
   "source": [
    "  SELECT\n",
    "                DATE_TRUNC('HOUR', START_TIME) AS START_TIME,\n",
    "                NAME,\n",
    "                SERVICE_TYPE,\n",
    "                SUM(CREDITS_USED) AS CREDITS_USED,\n",
    "                SUM(CREDITS_USED_COMPUTE) AS CREDITS_COMPUTE,\n",
    "                SUM(CREDITS_USED_CLOUD_SERVICES) AS CREDITS_CLOUD\n",
    "            FROM\n",
    "                \"SNOWFLAKE\".\"ACCOUNT_USAGE\".METERING_HISTORY\n",
    "            WHERE\n",
    "                START_TIME BETWEEN $QUERY_START_DATE  :: DATE\n",
    "                AND $QUERY_END_DATE  :: DATE\n",
    "\n",
    "                AND WAREHOUSE_NAME  LIKE $WAREHOUSES_PATTERN\n",
    "\n",
    "            GROUP BY\n",
    "                START_TIME,\n",
    "                NAME,\n",
    "                SERVICE_TYPE;"
   ]
  },
  {
   "cell_type": "markdown",
   "id": "c4a8e868-89a9-46a6-8421-c7ba5c12c60f",
   "metadata": {
    "collapsed": false,
    "name": "CreditConsumptionByUser"
   },
   "source": [
    "# Credits Consumption by User and Warehouse\n",
    "\n",
    "## Description:\n",
    "\n",
    "Get approximately how many credits have spent users in a specific timeframe on the specified warehouses.\n",
    "\n",
    "## How to Interpret Results:\n",
    "\n",
    "Which users use the most credits on which WH?\n",
    "\n"
   ]
  },
  {
   "cell_type": "code",
   "execution_count": null,
   "id": "0e277115-1c57-411f-b81f-c37edf46417d",
   "metadata": {
    "language": "sql",
    "name": "cell25"
   },
   "outputs": [],
   "source": [
    "  WITH USER_HOUR_EXECUTION_CTE AS (\n",
    "                SELECT\n",
    "                        USER_NAME,\n",
    "                        WAREHOUSE_NAME,\n",
    "                        DATE_TRUNC('HOUR', START_TIME) AS START_TIME_HOUR,\n",
    "                        SUM(EXECUTION_TIME) AS USER_HOUR_EXECUTION_TIME\n",
    "                FROM\n",
    "                        \"SNOWFLAKE\".\"ACCOUNT_USAGE\".QUERY_HISTORY\n",
    "                WHERE\n",
    "                        WAREHOUSE_NAME IS NOT NULL                   \n",
    "                        AND EXECUTION_TIME > 0\n",
    "                        AND\n",
    "                        START_TIME BETWEEN $QUERY_START_DATE  :: DATE\n",
    "                        AND $QUERY_END_DATE  :: DATE\n",
    "                        AND WAREHOUSE_NAME  LIKE $WAREHOUSES_PATTERN         \n",
    "                GROUP BY\n",
    "                        USER_NAME,\n",
    "                        WAREHOUSE_NAME,\n",
    "                        START_TIME_HOUR\n",
    "            ),\n",
    "            HOUR_EXECUTION_CTE AS (\n",
    "                SELECT\n",
    "                        START_TIME_HOUR,\n",
    "                        WAREHOUSE_NAME,\n",
    "                        SUM(USER_HOUR_EXECUTION_TIME) AS HOUR_EXECUTION_TIME\n",
    "                FROM\n",
    "                        USER_HOUR_EXECUTION_CTE\n",
    "                GROUP BY\n",
    "                        START_TIME_HOUR,\n",
    "                        WAREHOUSE_NAME\n",
    "            ),\n",
    "            APPROXIMATE_CREDITS AS (\n",
    "                SELECT\n",
    "                        UHE.USER_NAME,\n",
    "                        WMH.WAREHOUSE_NAME,\n",
    "                        (\n",
    "                                UHE.USER_HOUR_EXECUTION_TIME / HE.HOUR_EXECUTION_TIME\n",
    "                        ) * WMH.CREDITS_USED AS APPROXIMATE_CREDITS_USED\n",
    "                FROM\n",
    "                        USER_HOUR_EXECUTION_CTE UHE\n",
    "                        JOIN HOUR_EXECUTION_CTE HE ON UHE.START_TIME_HOUR = HE.START_TIME_HOUR\n",
    "                        AND HE.WAREHOUSE_NAME = UHE.WAREHOUSE_NAME\n",
    "                        JOIN \"SNOWFLAKE\".\"ACCOUNT_USAGE\".WAREHOUSE_METERING_HISTORY WMH ON WMH.WAREHOUSE_NAME = UHE.WAREHOUSE_NAME\n",
    "                        AND WMH.START_TIME = UHE.START_TIME_HOUR\n",
    "            )\n",
    "            SELECT\n",
    "                USER_NAME,\n",
    "                WAREHOUSE_NAME,\n",
    "                SUM(APPROXIMATE_CREDITS_USED) AS APPROXIMATE_CREDITS_USED\n",
    "            FROM\n",
    "                APPROXIMATE_CREDITS\n",
    "            GROUP BY\n",
    "                USER_NAME,\n",
    "                WAREHOUSE_NAME\n",
    "            ORDER BY\n",
    "                APPROXIMATE_CREDITS_USED DESC\n",
    "           ;"
   ]
  },
  {
   "cell_type": "markdown",
   "id": "be0c5aed-6563-4cc2-999b-e0183752f28c",
   "metadata": {
    "collapsed": false,
    "name": "WarehouseRoles"
   },
   "source": [
    "# Warehouse Roles\n",
    "\n",
    "## Description:\n",
    "\n",
    "List which roles have access to a WH\n",
    "\n",
    "## How to Interpret Results:\n",
    "\n",
    "Get a list of roles for a WH and look up on the PowerBI dashboard which users have these roles: \n",
    "[Snowflake PowerBI Dashboard](https://app.powerbi.com/groups/me/apps/4d286c72-a618-4f78-8f0a-827ace465ed5/reports/6ab19790-952e-4448-8a9e-c578754efad3?experience=power-bi)"
   ]
  },
  {
   "cell_type": "code",
   "execution_count": null,
   "id": "be9b0300-2b4c-4cc1-98d7-6ac34333010d",
   "metadata": {
    "language": "sql",
    "name": "cell8"
   },
   "outputs": [],
   "source": [
    "show grants on warehouse $WAREHOUSES_PATTERN;"
   ]
  },
  {
   "cell_type": "markdown",
   "id": "a2cfb0d3-6fb1-4d7c-9df1-d0e3233c7a9b",
   "metadata": {
    "collapsed": false,
    "name": "RepeatedQueries"
   },
   "source": [
    "# Repeated Queries\n",
    "\n",
    "## Description:\n",
    "\n",
    "Get how many times does a query have been executed and the max duration of execution time.\n",
    "\n",
    "## How to Interpret Results:\n",
    "\n",
    "Analyse variance of repeated queries.\n",
    "  \n"
   ]
  },
  {
   "cell_type": "code",
   "execution_count": null,
   "id": "0e9b8f7f-64ae-433e-b51d-e3d6e32d7e26",
   "metadata": {
    "language": "sql",
    "name": "cell27"
   },
   "outputs": [],
   "source": [
    "\n",
    "SELECT\n",
    "    QUERY_TEXT,\n",
    "    COUNT(*) AS NUMBER_OF_QUERIES,\n",
    "    min(total_elapsed_time/1000) min, \n",
    "    max(total_elapsed_time/1000) max, \n",
    "    median(total_elapsed_time/1000) median, \n",
    "    avg(total_elapsed_time/1000) avg, \n",
    "    percentile_cont(0.95) within group (order by total_elapsed_time/1000) p95,\n",
    "    percentile_cont(0.80) within group (order by total_elapsed_time/1000) p80,\n",
    "    percentile_cont(0.65) within group (order by total_elapsed_time/1000) p65\n",
    "\n",
    "FROM\n",
    "    \"SNOWFLAKE\".\"ACCOUNT_USAGE\".QUERY_HISTORY Q\n",
    "WHERE\n",
    "    TOTAL_ELAPSED_TIME > 0\n",
    "    AND\n",
    "    START_TIME BETWEEN $QUERY_START_DATE  :: DATE\n",
    "    AND $QUERY_END_DATE  :: DATE\n",
    "\n",
    "    AND WAREHOUSE_NAME LIKE $WAREHOUSES_PATTERN\n",
    "    \n",
    "GROUP BY\n",
    "    QUERY_TEXT\n",
    "HAVING\n",
    "    COUNT(*) >= 5 -- set minimum number of executions  \n",
    "ORDER BY\n",
    "    NUMBER_OF_QUERIES DESC\n",
    ";"
   ]
  },
  {
   "cell_type": "markdown",
   "id": "e9b3a3da-61ed-466a-8d61-5df9e9fce7e7",
   "metadata": {
    "collapsed": false,
    "name": "FailedTasks"
   },
   "source": [
    "# Failed Tasks\n",
    "\n",
    "## Description:\n",
    "Returns a list of task executions that failed.\n",
    "\n",
    "## How to Interpret Results:\n",
    "Revisit these task executions to resolve the errors."
   ]
  },
  {
   "cell_type": "code",
   "execution_count": null,
   "id": "ce6e1c2a-2acb-434e-be81-43288c71b218",
   "metadata": {
    "language": "sql",
    "name": "cell4"
   },
   "outputs": [],
   "source": [
    "select *\n",
    "  from \"SNOWFLAKE\".\"ACCOUNT_USAGE\".task_history\n",
    "  WHERE STATE = 'FAILED'\n",
    "\n",
    "AND\n",
    " START_TIME BETWEEN $QUERY_START_DATE  :: DATE\n",
    "    AND $QUERY_END_DATE  :: DATE\n",
    "\n",
    "    AND \n",
    "    NAME LIKE $TASKS_PATTERN -- Task name\n",
    "    AND SCHEMA_NAME LIKE $SCHEMAS_PATTERN -- Schema name\n",
    "\n",
    "  \n",
    "  order by query_start_time DESC\n",
    "  ;"
   ]
  },
  {
   "cell_type": "markdown",
   "id": "0071e68f-fa64-45cd-8de2-ae9327d93055",
   "metadata": {
    "collapsed": false,
    "name": "LongRunningTasks"
   },
   "source": [
    "# Long Running Tasks\n",
    "\n",
    "## Description:\n",
    "Returns an ordered list of the longest running tasks\n",
    "\n",
    "## How to Interpret Results:\n",
    "revisit task execution frequency or the task code for optimization"
   ]
  },
  {
   "cell_type": "code",
   "execution_count": null,
   "id": "dd95e50c-853c-4ffc-a425-6d587a581766",
   "metadata": {
    "language": "sql",
    "name": "cell2"
   },
   "outputs": [],
   "source": [
    "select DATEDIFF(seconds, QUERY_START_TIME,COMPLETED_TIME) as DURATION_SECONDS\n",
    "                ,*\n",
    "from \"SNOWFLAKE\".\"ACCOUNT_USAGE\".task_history\n",
    "WHERE STATE = 'SUCCEEDED'\n",
    "\n",
    "AND\n",
    " START_TIME BETWEEN $QUERY_START_DATE  :: DATE\n",
    "    AND $QUERY_END_DATE  :: DATE\n",
    "\n",
    "    AND \n",
    "    NAME LIKE $TASKS_PATTERN -- Task name\n",
    "    AND SCHEMA_NAME LIKE $SCHEMAS_PATTERN -- Schema name\n",
    "\n",
    "    \n",
    "order by DURATION_SECONDS desc\n",
    "  ;"
   ]
  }
 ]
}